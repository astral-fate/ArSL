{
 "cells": [
  {
   "cell_type": "code",
   "execution_count": 19,
   "id": "5c9115cb-8e86-4bf6-9161-f1e1656bf896",
   "metadata": {},
   "outputs": [],
   "source": [
    "import os\n",
    "import torch\n",
    "import torch.nn as nn\n",
    "import torch.optim as optim\n",
    "from torch.utils.data import DataLoader\n",
    "from torchvision import datasets, transforms\n",
    "from tqdm import tqdm\n",
    "import time\n",
    "import matplotlib.pyplot as plt\n",
    "import numpy as np\n",
    "import pandas as pd\n",
    "import seaborn as sns\n",
    "from sklearn.metrics import classification_report, confusion_matrix, accuracy_score, precision_score, recall_score, f1_score\n"
   ]
  },
  {
   "cell_type": "code",
   "execution_count": 21,
   "id": "4c3d688b-c5cb-445e-b288-088c76576ec7",
   "metadata": {},
   "outputs": [
    {
     "name": "stdout",
     "output_type": "stream",
     "text": [
      "Using device: cuda\n",
      "GPU: GeForce RTX 2060\n",
      "CUDA Version: 11.3\n",
      "Memory Available: 6.44 GB\n"
     ]
    }
   ],
   "source": [
    "\n",
    "# Check for GPU availability\n",
    "device = torch.device(\"cuda\" if torch.cuda.is_available() else \"cpu\")\n",
    "print(f\"Using device: {device}\")\n",
    "\n",
    "if device.type == 'cuda':\n",
    "    print(f\"GPU: {torch.cuda.get_device_name(0)}\")\n",
    "    print(f\"CUDA Version: {torch.version.cuda}\")\n",
    "    print(f\"Memory Available: {torch.cuda.get_device_properties(0).total_memory / 1e9:.2f} GB\")\n"
   ]
  },
  {
   "cell_type": "code",
   "execution_count": 23,
   "id": "2073f6ae-2b38-408c-83d2-b107526cc98e",
   "metadata": {},
   "outputs": [],
   "source": [
    "# Define data augmentation and transforms\n",
    "train_transform = transforms.Compose([\n",
    "    transforms.Resize((224, 224)),\n",
    "    transforms.RandomHorizontalFlip(p=0.3),\n",
    "    transforms.RandomRotation(degrees=10),\n",
    "    transforms.ColorJitter(brightness=0.2, contrast=0.2),\n",
    "    transforms.ToTensor(),\n",
    "    transforms.Normalize(mean=[0.485, 0.456, 0.406], std=[0.229, 0.224, 0.225])\n",
    "])\n",
    "\n",
    "test_transform = transforms.Compose([\n",
    "    transforms.Resize((224, 224)),\n",
    "    transforms.ToTensor(),\n",
    "    transforms.Normalize(mean=[0.485, 0.456, 0.406], std=[0.229, 0.224, 0.225])\n",
    "])\n"
   ]
  },
  {
   "cell_type": "code",
   "execution_count": 25,
   "id": "b9da7336-4bf2-4a93-82ed-014809646288",
   "metadata": {},
   "outputs": [],
   "source": [
    "def load_data(train_dir, test_dir, batch_size=64):\n",
    "    \"\"\"Load data with optimized settings for GPU acceleration\"\"\"\n",
    "    # Load datasets with augmentation for training\n",
    "    train_dataset = datasets.ImageFolder(train_dir, transform=train_transform)\n",
    "    test_dataset = datasets.ImageFolder(test_dir, transform=test_transform)\n",
    "    \n",
    "    # Print dataset information\n",
    "    print(f\"Found {len(train_dataset)} training images in {len(train_dataset.classes)} classes\")\n",
    "    print(f\"Found {len(test_dataset)} testing images in {len(test_dataset.classes)} classes\")\n",
    "    \n",
    "    # Create data loaders with optimized settings for GPU\n",
    "    train_loader = DataLoader(\n",
    "        train_dataset, \n",
    "        batch_size=batch_size, \n",
    "        shuffle=True, \n",
    "        num_workers=4,  # Increased for faster data loading\n",
    "        pin_memory=True,\n",
    "        prefetch_factor=2  # Prefetch batches for improved performance\n",
    "    )\n",
    "    \n",
    "    test_loader = DataLoader(\n",
    "        test_dataset, \n",
    "        batch_size=batch_size, \n",
    "        shuffle=False, \n",
    "        num_workers=4, \n",
    "        pin_memory=True\n",
    "    )\n",
    "    \n",
    "    return train_loader, test_loader, train_dataset.classes\n"
   ]
  },
  {
   "cell_type": "code",
   "execution_count": 27,
   "id": "30d8389e-cb11-46e8-af9e-20ae579af757",
   "metadata": {},
   "outputs": [],
   "source": [
    "\n",
    "\n",
    "# Define an enhanced CNN model\n",
    "class ArSLNet(nn.Module):\n",
    "    def __init__(self, num_classes):\n",
    "        super(ArSLNet, self).__init__()\n",
    "        \n",
    "        # Feature extraction layers\n",
    "        self.features = nn.Sequential(\n",
    "            # Conv Block 1\n",
    "            nn.Conv2d(3, 32, kernel_size=3, padding=1),\n",
    "            nn.BatchNorm2d(32),\n",
    "            nn.ReLU(inplace=True),\n",
    "            nn.Conv2d(32, 32, kernel_size=3, padding=1),\n",
    "            nn.BatchNorm2d(32),\n",
    "            nn.ReLU(inplace=True),\n",
    "            nn.MaxPool2d(kernel_size=2, stride=2),\n",
    "            \n",
    "            # Conv Block 2\n",
    "            nn.Conv2d(32, 64, kernel_size=3, padding=1),\n",
    "            nn.BatchNorm2d(64),\n",
    "            nn.ReLU(inplace=True),\n",
    "            nn.Conv2d(64, 64, kernel_size=3, padding=1),\n",
    "            nn.BatchNorm2d(64),\n",
    "            nn.ReLU(inplace=True),\n",
    "            nn.MaxPool2d(kernel_size=2, stride=2),\n",
    "            \n",
    "            # Conv Block 3\n",
    "            nn.Conv2d(64, 128, kernel_size=3, padding=1),\n",
    "            nn.BatchNorm2d(128),\n",
    "            nn.ReLU(inplace=True),\n",
    "            nn.Conv2d(128, 128, kernel_size=3, padding=1),\n",
    "            nn.BatchNorm2d(128),\n",
    "            nn.ReLU(inplace=True),\n",
    "            nn.MaxPool2d(kernel_size=2, stride=2),\n",
    "            \n",
    "            # Conv Block 4\n",
    "            nn.Conv2d(128, 256, kernel_size=3, padding=1),\n",
    "            nn.BatchNorm2d(256),\n",
    "            nn.ReLU(inplace=True),\n",
    "            nn.Conv2d(256, 256, kernel_size=3, padding=1),\n",
    "            nn.BatchNorm2d(256),\n",
    "            nn.ReLU(inplace=True),\n",
    "            nn.MaxPool2d(kernel_size=2, stride=2),\n",
    "        )\n",
    "        \n",
    "        # Adaptive pooling to handle different input sizes\n",
    "        self.adaptive_pool = nn.AdaptiveAvgPool2d((7, 7))\n",
    "        \n",
    "        # Classification layers\n",
    "        self.classifier = nn.Sequential(\n",
    "            nn.Dropout(0.5),\n",
    "            nn.Linear(256 * 7 * 7, 512),\n",
    "            nn.ReLU(inplace=True),\n",
    "            nn.BatchNorm1d(512),\n",
    "            nn.Dropout(0.5),\n",
    "            nn.Linear(512, num_classes)\n",
    "        )\n",
    "\n",
    "    def forward(self, x):\n",
    "        x = self.features(x)\n",
    "        x = self.adaptive_pool(x)\n",
    "        x = torch.flatten(x, 1)\n",
    "        x = self.classifier(x)\n",
    "        return x\n"
   ]
  },
  {
   "cell_type": "code",
   "execution_count": 29,
   "id": "86f14ac3-190c-44a0-94b1-3e27f80d6d6c",
   "metadata": {},
   "outputs": [],
   "source": [
    "\n",
    "\n",
    "# Training function with GPU optimization\n",
    "def train_epoch(model, train_loader, criterion, optimizer, device):\n",
    "    model.train()\n",
    "    running_loss = 0.0\n",
    "    correct = 0\n",
    "    total = 0\n",
    "    \n",
    "    pbar = tqdm(train_loader, desc=\"Training\")\n",
    "    for inputs, labels in pbar:\n",
    "        # Move data to GPU\n",
    "        inputs, labels = inputs.to(device), labels.to(device)\n",
    "        \n",
    "        # Zero gradients\n",
    "        optimizer.zero_grad()\n",
    "        \n",
    "        # Forward pass\n",
    "        outputs = model(inputs)\n",
    "        loss = criterion(outputs, labels)\n",
    "        \n",
    "        # Backward pass and optimize\n",
    "        loss.backward()\n",
    "        optimizer.step()\n",
    "        \n",
    "        # Statistics\n",
    "        running_loss += loss.item()\n",
    "        _, predicted = outputs.max(1)\n",
    "        total += labels.size(0)\n",
    "        correct += predicted.eq(labels).sum().item()\n",
    "        \n",
    "        # Update progress bar\n",
    "        pbar.set_postfix({\"loss\": f\"{loss.item():.4f}\", \"acc\": f\"{100.*correct/total:.2f}%\"})\n",
    "    \n",
    "    epoch_loss = running_loss / len(train_loader)\n",
    "    accuracy = 100. * correct / total\n",
    "    return epoch_loss, accuracy\n"
   ]
  },
  {
   "cell_type": "code",
   "execution_count": 31,
   "id": "65ffda09-9dd6-4f22-a3ba-b2acedc770c0",
   "metadata": {},
   "outputs": [],
   "source": [
    "\n",
    "# Evaluation function\n",
    "def evaluate(model, test_loader, criterion, device):\n",
    "    model.eval()\n",
    "    running_loss = 0.0\n",
    "    correct = 0\n",
    "    total = 0\n",
    "    \n",
    "    with torch.no_grad():\n",
    "        for inputs, labels in tqdm(test_loader, desc=\"Evaluating\"):\n",
    "            inputs, labels = inputs.to(device), labels.to(device)\n",
    "            outputs = model(inputs)\n",
    "            loss = criterion(outputs, labels)\n",
    "            \n",
    "            running_loss += loss.item()\n",
    "            _, predicted = outputs.max(1)\n",
    "            total += labels.size(0)\n",
    "            correct += predicted.eq(labels).sum().item()\n",
    "    \n",
    "    epoch_loss = running_loss / len(test_loader)\n",
    "    accuracy = 100. * correct / total\n",
    "    return epoch_loss, accuracy\n"
   ]
  },
  {
   "cell_type": "code",
   "execution_count": 33,
   "id": "4748c290-2284-4b4b-a948-9827681271b3",
   "metadata": {},
   "outputs": [],
   "source": [
    "\n",
    "# Generate comprehensive evaluation metrics\n",
    "def generate_evaluation_report(model, test_loader, device, class_names):\n",
    "    \"\"\"Generate comprehensive evaluation including confusion matrix and classification report\"\"\"\n",
    "    model.eval()\n",
    "    all_preds = []\n",
    "    all_labels = []\n",
    "    \n",
    "    # Collect all predictions and labels\n",
    "    with torch.no_grad():\n",
    "        for inputs, labels in tqdm(test_loader, desc=\"Generating evaluation metrics\"):\n",
    "            inputs, labels = inputs.to(device), labels.to(device)\n",
    "            outputs = model(inputs)\n",
    "            _, predicted = outputs.max(1)\n",
    "            \n",
    "            all_preds.extend(predicted.cpu().numpy())\n",
    "            all_labels.extend(labels.cpu().numpy())\n",
    "    \n",
    "    # Convert to numpy arrays\n",
    "    all_preds = np.array(all_preds)\n",
    "    all_labels = np.array(all_labels)\n",
    "    \n",
    "    # Calculate metrics\n",
    "    acc = accuracy_score(all_labels, all_preds)\n",
    "    precision = precision_score(all_labels, all_preds, average='weighted')\n",
    "    recall = recall_score(all_labels, all_preds, average='weighted')\n",
    "    f1 = f1_score(all_labels, all_preds, average='weighted')\n",
    "    \n",
    "    # Generate classification report\n",
    "    report = classification_report(all_labels, all_preds, target_names=class_names, output_dict=True)\n",
    "    \n",
    "    # Create confusion matrix\n",
    "    cm = confusion_matrix(all_labels, all_preds)\n",
    "    \n",
    "    print(\"\\n===== Evaluation Metrics =====\")\n",
    "    print(f\"Accuracy: {acc:.4f}\")\n",
    "    print(f\"Precision: {precision:.4f}\")\n",
    "    print(f\"Recall: {recall:.4f}\")\n",
    "    print(f\"F1 Score: {f1:.4f}\")\n",
    "    \n",
    "    # Plot confusion matrix\n",
    "    plt.figure(figsize=(16, 14))\n",
    "    sns.heatmap(cm, annot=True, fmt='d', cmap='Blues', xticklabels=class_names, yticklabels=class_names)\n",
    "    plt.xlabel('Predicted')\n",
    "    plt.ylabel('True')\n",
    "    plt.title('Confusion Matrix')\n",
    "    plt.savefig('confusion_matrix.png', dpi=300, bbox_inches='tight')\n",
    "    \n",
    "    # Save classification report as CSV\n",
    "    report_df = pd.DataFrame(report).transpose()\n",
    "    report_df.to_csv('classification_report.csv')\n",
    "    \n",
    "    return {\n",
    "        'accuracy': acc,\n",
    "        'precision': precision,\n",
    "        'recall': recall,\n",
    "        'f1': f1,\n",
    "        'report': report,\n",
    "        'confusion_matrix': cm\n",
    "    }"
   ]
  },
  {
   "cell_type": "code",
   "execution_count": 35,
   "id": "437caa7e-6835-4d69-b7b8-627a8e58906b",
   "metadata": {},
   "outputs": [],
   "source": [
    "\n",
    "\n",
    "# Main training function\n",
    "def train_model(train_dir, test_dir, num_epochs=64, batch_size=64, lr=0.001):\n",
    "    # Load data\n",
    "    train_loader, test_loader, class_names = load_data(train_dir, test_dir, batch_size)\n",
    "    num_classes = len(class_names)\n",
    "    \n",
    "    # Initialize model\n",
    "    model = ArSLNet(num_classes=num_classes).to(device)\n",
    "    print(f\"Model initialized with {num_classes} output classes\")\n",
    "    \n",
    "    # Loss function and optimizer\n",
    "    criterion = nn.CrossEntropyLoss()\n",
    "    optimizer = optim.Adam(model.parameters(), lr=lr, weight_decay=1e-5)\n",
    "    scheduler = optim.lr_scheduler.ReduceLROnPlateau(\n",
    "        optimizer, mode='min', patience=5, factor=0.1, verbose=True\n",
    "    )\n",
    "    \n",
    "    # Early stopping parameters\n",
    "    early_stopping_patience = 10  # Number of epochs to wait after validation loss stops improving\n",
    "    early_stopping_counter = 0\n",
    "    best_val_loss = float('inf')\n",
    "    \n",
    "    # Training loop\n",
    "    train_losses, test_losses = [], []\n",
    "    train_accuracies, test_accuracies = [], []\n",
    "    best_acc = 0.0\n",
    "    \n",
    "    # Create output directory for models\n",
    "    os.makedirs('models', exist_ok=True)\n",
    "    \n",
    "    # Training timer\n",
    "    start_time = time.time()\n",
    "    \n",
    "    for epoch in range(num_epochs):\n",
    "        print(f\"\\nEpoch {epoch+1}/{num_epochs}\")\n",
    "        \n",
    "        # Train one epoch\n",
    "        train_loss, train_acc = train_epoch(model, train_loader, criterion, optimizer, device)\n",
    "        train_losses.append(train_loss)\n",
    "        train_accuracies.append(train_acc)\n",
    "        \n",
    "        # Evaluate\n",
    "        test_loss, test_acc = evaluate(model, test_loader, criterion, device)\n",
    "        test_losses.append(test_loss)\n",
    "        test_accuracies.append(test_acc)\n",
    "        \n",
    "        # Adjust learning rate\n",
    "        scheduler.step(test_loss)\n",
    "        \n",
    "        # Save best model\n",
    "        if test_acc > best_acc:\n",
    "            best_acc = test_acc\n",
    "            torch.save({\n",
    "                'epoch': epoch,\n",
    "                'model_state_dict': model.state_dict(),\n",
    "                'optimizer_state_dict': optimizer.state_dict(),\n",
    "                'accuracy': best_acc,\n",
    "                'class_names': class_names\n",
    "            }, 'models/best_arsl_model.pth')\n",
    "            print(f\"New best model saved! Accuracy: {best_acc:.2f}%\")\n",
    "        \n",
    "        # Print stats\n",
    "        print(f\"Train Loss: {train_loss:.4f}, Train Acc: {train_acc:.2f}%\")\n",
    "        print(f\"Test Loss: {test_loss:.4f}, Test Acc: {test_acc:.2f}%\")\n",
    "        \n",
    "        # Check for early stopping\n",
    "        if test_loss < best_val_loss:\n",
    "            best_val_loss = test_loss\n",
    "            early_stopping_counter = 0\n",
    "        else:\n",
    "            early_stopping_counter += 1\n",
    "            print(f\"EarlyStopping counter: {early_stopping_counter} out of {early_stopping_patience}\")\n",
    "            \n",
    "            if early_stopping_counter >= early_stopping_patience:\n",
    "                print(f\"Early stopping triggered after {epoch+1} epochs\")\n",
    "                break\n",
    "        \n",
    "        # Save checkpoint every 5 epochs\n",
    "        if (epoch + 1) % 5 == 0:\n",
    "            torch.save({\n",
    "                'epoch': epoch,\n",
    "                'model_state_dict': model.state_dict(),\n",
    "                'optimizer_state_dict': optimizer.state_dict(),\n",
    "                'train_loss': train_loss,\n",
    "                'test_loss': test_loss,\n",
    "                'train_acc': train_acc,\n",
    "                'test_acc': test_acc,\n",
    "                'class_names': class_names\n",
    "            }, f'models/arsl_checkpoint_epoch_{epoch+1}.pth')\n",
    "        \n",
    "        # Clear GPU cache\n",
    "        if torch.cuda.is_available():\n",
    "            torch.cuda.empty_cache()\n",
    "    \n",
    "    # Calculate total training time\n",
    "    total_time = time.time() - start_time\n",
    "    hours, remainder = divmod(total_time, 3600)\n",
    "    minutes, seconds = divmod(remainder, 60)\n",
    "    print(f\"\\nTraining completed in {int(hours)}h {int(minutes)}m {int(seconds)}s\")\n",
    "    \n",
    "    # Plot training history\n",
    "    plt.figure(figsize=(16, 6))\n",
    "    \n",
    "    plt.subplot(1, 2, 1)\n",
    "    plt.plot(train_losses, label='Train Loss')\n",
    "    plt.plot(test_losses, label='Test Loss')\n",
    "    plt.xlabel('Epoch')\n",
    "    plt.ylabel('Loss')\n",
    "    plt.title('Training and Validation Loss')\n",
    "    plt.legend()\n",
    "    plt.grid(True, linestyle='--', alpha=0.7)\n",
    "    \n",
    "    plt.subplot(1, 2, 2)\n",
    "    plt.plot(train_accuracies, label='Train Accuracy')\n",
    "    plt.plot(test_accuracies, label='Test Accuracy')\n",
    "    plt.xlabel('Epoch')\n",
    "    plt.ylabel('Accuracy (%)')\n",
    "    plt.title('Training and Validation Accuracy')\n",
    "    plt.legend()\n",
    "    plt.grid(True, linestyle='--', alpha=0.7)\n",
    "    \n",
    "    plt.tight_layout()\n",
    "    plt.savefig('training_history.png', dpi=300, bbox_inches='tight')\n",
    "    plt.show()\n",
    "    \n",
    "    # Generate comprehensive evaluation report\n",
    "    print(\"\\nGenerating comprehensive evaluation report...\")\n",
    "    evaluation_metrics = generate_evaluation_report(model, test_loader, device, class_names)\n",
    "    \n",
    "    # Save entire pipeline\n",
    "    pipeline = {\n",
    "        'model': model.state_dict(),\n",
    "        'class_names': class_names,\n",
    "        'history': {\n",
    "            'train_losses': train_losses,\n",
    "            'test_losses': test_losses,\n",
    "            'train_accuracies': train_accuracies,\n",
    "            'test_accuracies': test_accuracies,\n",
    "        },\n",
    "        'metrics': {\n",
    "            'best_accuracy': best_acc,\n",
    "            'final_train_loss': train_losses[-1],\n",
    "            'final_test_loss': test_losses[-1],\n",
    "            'final_train_acc': train_accuracies[-1],\n",
    "            'final_test_acc': test_accuracies[-1],\n",
    "            'training_time': total_time\n",
    "        }\n",
    "    }\n",
    "    torch.save(pipeline, 'models/complete_arsl_pipeline.pth')\n",
    "    print(\"Complete pipeline saved to 'models/complete_arsl_pipeline.pth'\")\n",
    "    \n",
    "    print(f\"\\nBest Test Accuracy: {best_acc:.2f}%\")\n",
    "    \n",
    "    return model, evaluation_metrics\n",
    "\n"
   ]
  },
  {
   "cell_type": "code",
   "execution_count": 37,
   "id": "55bd1313-a01d-4139-ac7e-2c8575a848fd",
   "metadata": {},
   "outputs": [
    {
     "name": "stdout",
     "output_type": "stream",
     "text": [
      "Found 49160 training images in 32 classes\n",
      "Found 26491 testing images in 32 classes\n",
      "Model initialized with 32 output classes\n",
      "\n",
      "Epoch 1/64\n"
     ]
    },
    {
     "name": "stderr",
     "output_type": "stream",
     "text": [
      "Training: 100%|█████████████████████████████████████████████| 769/769 [04:14<00:00,  3.02it/s, loss=1.7733, acc=31.46%]\n",
      "Evaluating: 100%|████████████████████████████████████████████████████████████████████| 414/414 [00:45<00:00,  9.08it/s]\n"
     ]
    },
    {
     "name": "stdout",
     "output_type": "stream",
     "text": [
      "New best model saved! Accuracy: 58.55%\n",
      "Train Loss: 2.4104, Train Acc: 31.46%\n",
      "Test Loss: 1.4254, Test Acc: 58.55%\n",
      "\n",
      "Epoch 2/64\n"
     ]
    },
    {
     "name": "stderr",
     "output_type": "stream",
     "text": [
      "Training: 100%|█████████████████████████████████████████████| 769/769 [04:11<00:00,  3.05it/s, loss=1.9021, acc=55.90%]\n",
      "Evaluating: 100%|████████████████████████████████████████████████████████████████████| 414/414 [01:20<00:00,  5.17it/s]\n"
     ]
    },
    {
     "name": "stdout",
     "output_type": "stream",
     "text": [
      "New best model saved! Accuracy: 69.05%\n",
      "Train Loss: 1.4815, Train Acc: 55.90%\n",
      "Test Loss: 1.0427, Test Acc: 69.05%\n",
      "\n",
      "Epoch 3/64\n"
     ]
    },
    {
     "name": "stderr",
     "output_type": "stream",
     "text": [
      "Training: 100%|█████████████████████████████████████████████| 769/769 [04:13<00:00,  3.03it/s, loss=1.6704, acc=64.61%]\n",
      "Evaluating: 100%|████████████████████████████████████████████████████████████████████| 414/414 [01:20<00:00,  5.15it/s]\n"
     ]
    },
    {
     "name": "stdout",
     "output_type": "stream",
     "text": [
      "New best model saved! Accuracy: 73.05%\n",
      "Train Loss: 1.1779, Train Acc: 64.61%\n",
      "Test Loss: 0.9577, Test Acc: 73.05%\n",
      "\n",
      "Epoch 4/64\n"
     ]
    },
    {
     "name": "stderr",
     "output_type": "stream",
     "text": [
      "Training: 100%|█████████████████████████████████████████████| 769/769 [04:03<00:00,  3.16it/s, loss=0.1781, acc=70.78%]\n",
      "Evaluating: 100%|████████████████████████████████████████████████████████████████████| 414/414 [00:40<00:00, 10.16it/s]\n"
     ]
    },
    {
     "name": "stdout",
     "output_type": "stream",
     "text": [
      "New best model saved! Accuracy: 80.90%\n",
      "Train Loss: 0.9640, Train Acc: 70.78%\n",
      "Test Loss: 0.6609, Test Acc: 80.90%\n",
      "\n",
      "Epoch 5/64\n"
     ]
    },
    {
     "name": "stderr",
     "output_type": "stream",
     "text": [
      "Training: 100%|█████████████████████████████████████████████| 769/769 [04:03<00:00,  3.16it/s, loss=0.8876, acc=74.62%]\n",
      "Evaluating: 100%|████████████████████████████████████████████████████████████████████| 414/414 [00:40<00:00, 10.20it/s]\n"
     ]
    },
    {
     "name": "stdout",
     "output_type": "stream",
     "text": [
      "New best model saved! Accuracy: 82.18%\n",
      "Train Loss: 0.8266, Train Acc: 74.62%\n",
      "Test Loss: 0.5900, Test Acc: 82.18%\n",
      "\n",
      "Epoch 6/64\n"
     ]
    },
    {
     "name": "stderr",
     "output_type": "stream",
     "text": [
      "Training: 100%|█████████████████████████████████████████████| 769/769 [04:03<00:00,  3.16it/s, loss=0.8907, acc=76.44%]\n",
      "Evaluating: 100%|████████████████████████████████████████████████████████████████████| 414/414 [00:40<00:00, 10.22it/s]\n"
     ]
    },
    {
     "name": "stdout",
     "output_type": "stream",
     "text": [
      "New best model saved! Accuracy: 86.15%\n",
      "Train Loss: 0.7524, Train Acc: 76.44%\n",
      "Test Loss: 0.4587, Test Acc: 86.15%\n",
      "\n",
      "Epoch 7/64\n"
     ]
    },
    {
     "name": "stderr",
     "output_type": "stream",
     "text": [
      "Training: 100%|█████████████████████████████████████████████| 769/769 [04:02<00:00,  3.18it/s, loss=1.1635, acc=80.10%]\n",
      "Evaluating: 100%|████████████████████████████████████████████████████████████████████| 414/414 [00:40<00:00, 10.27it/s]\n"
     ]
    },
    {
     "name": "stdout",
     "output_type": "stream",
     "text": [
      "Train Loss: 0.6396, Train Acc: 80.10%\n",
      "Test Loss: 0.4676, Test Acc: 85.79%\n",
      "EarlyStopping counter: 1 out of 10\n",
      "\n",
      "Epoch 8/64\n"
     ]
    },
    {
     "name": "stderr",
     "output_type": "stream",
     "text": [
      "Training: 100%|█████████████████████████████████████████████| 769/769 [04:02<00:00,  3.17it/s, loss=1.1788, acc=82.06%]\n",
      "Evaluating: 100%|████████████████████████████████████████████████████████████████████| 414/414 [00:40<00:00, 10.26it/s]\n"
     ]
    },
    {
     "name": "stdout",
     "output_type": "stream",
     "text": [
      "New best model saved! Accuracy: 89.34%\n",
      "Train Loss: 0.5787, Train Acc: 82.06%\n",
      "Test Loss: 0.3552, Test Acc: 89.34%\n",
      "\n",
      "Epoch 9/64\n"
     ]
    },
    {
     "name": "stderr",
     "output_type": "stream",
     "text": [
      "Training: 100%|█████████████████████████████████████████████| 769/769 [04:02<00:00,  3.18it/s, loss=0.8240, acc=83.19%]\n",
      "Evaluating: 100%|████████████████████████████████████████████████████████████████████| 414/414 [00:40<00:00, 10.29it/s]\n"
     ]
    },
    {
     "name": "stdout",
     "output_type": "stream",
     "text": [
      "New best model saved! Accuracy: 89.54%\n",
      "Train Loss: 0.5329, Train Acc: 83.19%\n",
      "Test Loss: 0.3388, Test Acc: 89.54%\n",
      "\n",
      "Epoch 10/64\n"
     ]
    },
    {
     "name": "stderr",
     "output_type": "stream",
     "text": [
      "Training: 100%|█████████████████████████████████████████████| 769/769 [04:02<00:00,  3.18it/s, loss=1.5527, acc=84.60%]\n",
      "Evaluating: 100%|████████████████████████████████████████████████████████████████████| 414/414 [00:40<00:00, 10.23it/s]\n"
     ]
    },
    {
     "name": "stdout",
     "output_type": "stream",
     "text": [
      "New best model saved! Accuracy: 90.15%\n",
      "Train Loss: 0.4849, Train Acc: 84.60%\n",
      "Test Loss: 0.3166, Test Acc: 90.15%\n",
      "\n",
      "Epoch 11/64\n"
     ]
    },
    {
     "name": "stderr",
     "output_type": "stream",
     "text": [
      "Training: 100%|█████████████████████████████████████████████| 769/769 [04:01<00:00,  3.18it/s, loss=1.8554, acc=85.83%]\n",
      "Evaluating: 100%|████████████████████████████████████████████████████████████████████| 414/414 [00:40<00:00, 10.21it/s]\n"
     ]
    },
    {
     "name": "stdout",
     "output_type": "stream",
     "text": [
      "New best model saved! Accuracy: 91.73%\n",
      "Train Loss: 0.4430, Train Acc: 85.83%\n",
      "Test Loss: 0.2642, Test Acc: 91.73%\n",
      "\n",
      "Epoch 12/64\n"
     ]
    },
    {
     "name": "stderr",
     "output_type": "stream",
     "text": [
      "Training: 100%|█████████████████████████████████████████████| 769/769 [04:02<00:00,  3.18it/s, loss=1.1993, acc=86.59%]\n",
      "Evaluating: 100%|████████████████████████████████████████████████████████████████████| 414/414 [00:40<00:00, 10.22it/s]\n"
     ]
    },
    {
     "name": "stdout",
     "output_type": "stream",
     "text": [
      "New best model saved! Accuracy: 92.57%\n",
      "Train Loss: 0.4183, Train Acc: 86.59%\n",
      "Test Loss: 0.2372, Test Acc: 92.57%\n",
      "\n",
      "Epoch 13/64\n"
     ]
    },
    {
     "name": "stderr",
     "output_type": "stream",
     "text": [
      "Training: 100%|█████████████████████████████████████████████| 769/769 [04:02<00:00,  3.18it/s, loss=0.4635, acc=87.91%]\n",
      "Evaluating: 100%|████████████████████████████████████████████████████████████████████| 414/414 [00:40<00:00, 10.23it/s]\n"
     ]
    },
    {
     "name": "stdout",
     "output_type": "stream",
     "text": [
      "Train Loss: 0.3799, Train Acc: 87.91%\n",
      "Test Loss: 0.2467, Test Acc: 92.39%\n",
      "EarlyStopping counter: 1 out of 10\n",
      "\n",
      "Epoch 14/64\n"
     ]
    },
    {
     "name": "stderr",
     "output_type": "stream",
     "text": [
      "Training: 100%|█████████████████████████████████████████████| 769/769 [04:03<00:00,  3.16it/s, loss=1.4488, acc=88.58%]\n",
      "Evaluating: 100%|████████████████████████████████████████████████████████████████████| 414/414 [00:40<00:00, 10.22it/s]\n"
     ]
    },
    {
     "name": "stdout",
     "output_type": "stream",
     "text": [
      "New best model saved! Accuracy: 93.33%\n",
      "Train Loss: 0.3594, Train Acc: 88.58%\n",
      "Test Loss: 0.2162, Test Acc: 93.33%\n",
      "\n",
      "Epoch 15/64\n"
     ]
    },
    {
     "name": "stderr",
     "output_type": "stream",
     "text": [
      "Training: 100%|█████████████████████████████████████████████| 769/769 [04:02<00:00,  3.18it/s, loss=0.9649, acc=89.01%]\n",
      "Evaluating: 100%|████████████████████████████████████████████████████████████████████| 414/414 [00:40<00:00, 10.23it/s]\n"
     ]
    },
    {
     "name": "stdout",
     "output_type": "stream",
     "text": [
      "New best model saved! Accuracy: 93.38%\n",
      "Train Loss: 0.3407, Train Acc: 89.01%\n",
      "Test Loss: 0.2129, Test Acc: 93.38%\n",
      "\n",
      "Epoch 16/64\n"
     ]
    },
    {
     "name": "stderr",
     "output_type": "stream",
     "text": [
      "Training: 100%|█████████████████████████████████████████████| 769/769 [04:02<00:00,  3.17it/s, loss=0.5645, acc=89.53%]\n",
      "Evaluating: 100%|████████████████████████████████████████████████████████████████████| 414/414 [00:40<00:00, 10.19it/s]\n"
     ]
    },
    {
     "name": "stdout",
     "output_type": "stream",
     "text": [
      "New best model saved! Accuracy: 93.87%\n",
      "Train Loss: 0.3241, Train Acc: 89.53%\n",
      "Test Loss: 0.1926, Test Acc: 93.87%\n",
      "\n",
      "Epoch 17/64\n"
     ]
    },
    {
     "name": "stderr",
     "output_type": "stream",
     "text": [
      "Training: 100%|█████████████████████████████████████████████| 769/769 [04:02<00:00,  3.17it/s, loss=0.0831, acc=89.95%]\n",
      "Evaluating: 100%|████████████████████████████████████████████████████████████████████| 414/414 [00:40<00:00, 10.22it/s]\n"
     ]
    },
    {
     "name": "stdout",
     "output_type": "stream",
     "text": [
      "New best model saved! Accuracy: 94.06%\n",
      "Train Loss: 0.3171, Train Acc: 89.95%\n",
      "Test Loss: 0.1881, Test Acc: 94.06%\n",
      "\n",
      "Epoch 18/64\n"
     ]
    },
    {
     "name": "stderr",
     "output_type": "stream",
     "text": [
      "Training: 100%|█████████████████████████████████████████████| 769/769 [04:02<00:00,  3.17it/s, loss=0.1169, acc=90.93%]\n",
      "Evaluating: 100%|████████████████████████████████████████████████████████████████████| 414/414 [00:40<00:00, 10.23it/s]\n"
     ]
    },
    {
     "name": "stdout",
     "output_type": "stream",
     "text": [
      "New best model saved! Accuracy: 94.64%\n",
      "Train Loss: 0.2834, Train Acc: 90.93%\n",
      "Test Loss: 0.1717, Test Acc: 94.64%\n",
      "\n",
      "Epoch 19/64\n"
     ]
    },
    {
     "name": "stderr",
     "output_type": "stream",
     "text": [
      "Training: 100%|█████████████████████████████████████████████| 769/769 [04:02<00:00,  3.18it/s, loss=0.5291, acc=91.70%]\n",
      "Evaluating: 100%|████████████████████████████████████████████████████████████████████| 414/414 [00:40<00:00, 10.23it/s]\n"
     ]
    },
    {
     "name": "stdout",
     "output_type": "stream",
     "text": [
      "Train Loss: 0.2612, Train Acc: 91.70%\n",
      "Test Loss: 0.1776, Test Acc: 94.53%\n",
      "EarlyStopping counter: 1 out of 10\n",
      "\n",
      "Epoch 20/64\n"
     ]
    },
    {
     "name": "stderr",
     "output_type": "stream",
     "text": [
      "Training: 100%|█████████████████████████████████████████████| 769/769 [04:02<00:00,  3.18it/s, loss=0.9351, acc=91.48%]\n",
      "Evaluating: 100%|████████████████████████████████████████████████████████████████████| 414/414 [00:40<00:00, 10.21it/s]\n"
     ]
    },
    {
     "name": "stdout",
     "output_type": "stream",
     "text": [
      "New best model saved! Accuracy: 94.83%\n",
      "Train Loss: 0.2638, Train Acc: 91.48%\n",
      "Test Loss: 0.1628, Test Acc: 94.83%\n",
      "\n",
      "Epoch 21/64\n"
     ]
    },
    {
     "name": "stderr",
     "output_type": "stream",
     "text": [
      "Training: 100%|█████████████████████████████████████████████| 769/769 [04:02<00:00,  3.18it/s, loss=0.1299, acc=91.50%]\n",
      "Evaluating: 100%|████████████████████████████████████████████████████████████████████| 414/414 [00:40<00:00, 10.25it/s]\n"
     ]
    },
    {
     "name": "stdout",
     "output_type": "stream",
     "text": [
      "New best model saved! Accuracy: 94.95%\n",
      "Train Loss: 0.2610, Train Acc: 91.50%\n",
      "Test Loss: 0.1586, Test Acc: 94.95%\n",
      "\n",
      "Epoch 22/64\n"
     ]
    },
    {
     "name": "stderr",
     "output_type": "stream",
     "text": [
      "Training: 100%|█████████████████████████████████████████████| 769/769 [04:02<00:00,  3.17it/s, loss=0.8252, acc=92.31%]\n",
      "Evaluating: 100%|████████████████████████████████████████████████████████████████████| 414/414 [00:40<00:00, 10.24it/s]\n"
     ]
    },
    {
     "name": "stdout",
     "output_type": "stream",
     "text": [
      "Train Loss: 0.2373, Train Acc: 92.31%\n",
      "Test Loss: 0.1774, Test Acc: 94.45%\n",
      "EarlyStopping counter: 1 out of 10\n",
      "\n",
      "Epoch 23/64\n"
     ]
    },
    {
     "name": "stderr",
     "output_type": "stream",
     "text": [
      "Training: 100%|█████████████████████████████████████████████| 769/769 [04:02<00:00,  3.18it/s, loss=0.5293, acc=92.28%]\n",
      "Evaluating: 100%|████████████████████████████████████████████████████████████████████| 414/414 [00:40<00:00, 10.25it/s]\n"
     ]
    },
    {
     "name": "stdout",
     "output_type": "stream",
     "text": [
      "Train Loss: 0.2373, Train Acc: 92.28%\n",
      "Test Loss: 0.1638, Test Acc: 94.90%\n",
      "EarlyStopping counter: 2 out of 10\n",
      "\n",
      "Epoch 24/64\n"
     ]
    },
    {
     "name": "stderr",
     "output_type": "stream",
     "text": [
      "Training: 100%|█████████████████████████████████████████████| 769/769 [04:02<00:00,  3.18it/s, loss=0.0486, acc=92.93%]\n",
      "Evaluating: 100%|████████████████████████████████████████████████████████████████████| 414/414 [00:40<00:00, 10.22it/s]\n"
     ]
    },
    {
     "name": "stdout",
     "output_type": "stream",
     "text": [
      "New best model saved! Accuracy: 95.75%\n",
      "Train Loss: 0.2182, Train Acc: 92.93%\n",
      "Test Loss: 0.1353, Test Acc: 95.75%\n",
      "\n",
      "Epoch 25/64\n"
     ]
    },
    {
     "name": "stderr",
     "output_type": "stream",
     "text": [
      "Training: 100%|█████████████████████████████████████████████| 769/769 [04:02<00:00,  3.18it/s, loss=0.3194, acc=93.12%]\n",
      "Evaluating: 100%|████████████████████████████████████████████████████████████████████| 414/414 [00:40<00:00, 10.22it/s]\n"
     ]
    },
    {
     "name": "stdout",
     "output_type": "stream",
     "text": [
      "Train Loss: 0.2100, Train Acc: 93.12%\n",
      "Test Loss: 0.1460, Test Acc: 95.48%\n",
      "EarlyStopping counter: 1 out of 10\n",
      "\n",
      "Epoch 26/64\n"
     ]
    },
    {
     "name": "stderr",
     "output_type": "stream",
     "text": [
      "Training: 100%|█████████████████████████████████████████████| 769/769 [04:02<00:00,  3.17it/s, loss=0.6400, acc=93.06%]\n",
      "Evaluating: 100%|████████████████████████████████████████████████████████████████████| 414/414 [00:40<00:00, 10.26it/s]\n"
     ]
    },
    {
     "name": "stdout",
     "output_type": "stream",
     "text": [
      "New best model saved! Accuracy: 96.12%\n",
      "Train Loss: 0.2140, Train Acc: 93.06%\n",
      "Test Loss: 0.1271, Test Acc: 96.12%\n",
      "\n",
      "Epoch 27/64\n"
     ]
    },
    {
     "name": "stderr",
     "output_type": "stream",
     "text": [
      "Training: 100%|█████████████████████████████████████████████| 769/769 [04:02<00:00,  3.17it/s, loss=0.2626, acc=93.25%]\n",
      "Evaluating: 100%|████████████████████████████████████████████████████████████████████| 414/414 [00:40<00:00, 10.21it/s]\n"
     ]
    },
    {
     "name": "stdout",
     "output_type": "stream",
     "text": [
      "Train Loss: 0.2047, Train Acc: 93.25%\n",
      "Test Loss: 0.1338, Test Acc: 95.79%\n",
      "EarlyStopping counter: 1 out of 10\n",
      "\n",
      "Epoch 28/64\n"
     ]
    },
    {
     "name": "stderr",
     "output_type": "stream",
     "text": [
      "Training: 100%|█████████████████████████████████████████████| 769/769 [04:01<00:00,  3.18it/s, loss=0.1693, acc=93.25%]\n",
      "Evaluating: 100%|████████████████████████████████████████████████████████████████████| 414/414 [00:40<00:00, 10.26it/s]\n"
     ]
    },
    {
     "name": "stdout",
     "output_type": "stream",
     "text": [
      "Train Loss: 0.2063, Train Acc: 93.25%\n",
      "Test Loss: 0.1264, Test Acc: 95.87%\n",
      "\n",
      "Epoch 29/64\n"
     ]
    },
    {
     "name": "stderr",
     "output_type": "stream",
     "text": [
      "Training: 100%|█████████████████████████████████████████████| 769/769 [04:01<00:00,  3.18it/s, loss=0.0987, acc=93.85%]\n",
      "Evaluating: 100%|████████████████████████████████████████████████████████████████████| 414/414 [00:40<00:00, 10.23it/s]\n"
     ]
    },
    {
     "name": "stdout",
     "output_type": "stream",
     "text": [
      "Train Loss: 0.1855, Train Acc: 93.85%\n",
      "Test Loss: 0.1278, Test Acc: 95.99%\n",
      "EarlyStopping counter: 1 out of 10\n",
      "\n",
      "Epoch 30/64\n"
     ]
    },
    {
     "name": "stderr",
     "output_type": "stream",
     "text": [
      "Training: 100%|█████████████████████████████████████████████| 769/769 [04:02<00:00,  3.18it/s, loss=0.0466, acc=93.98%]\n",
      "Evaluating: 100%|████████████████████████████████████████████████████████████████████| 414/414 [00:40<00:00, 10.28it/s]\n"
     ]
    },
    {
     "name": "stdout",
     "output_type": "stream",
     "text": [
      "New best model saved! Accuracy: 96.25%\n",
      "Train Loss: 0.1844, Train Acc: 93.98%\n",
      "Test Loss: 0.1204, Test Acc: 96.25%\n",
      "\n",
      "Epoch 31/64\n"
     ]
    },
    {
     "name": "stderr",
     "output_type": "stream",
     "text": [
      "Training: 100%|█████████████████████████████████████████████| 769/769 [04:02<00:00,  3.18it/s, loss=0.0051, acc=94.02%]\n",
      "Evaluating: 100%|████████████████████████████████████████████████████████████████████| 414/414 [00:40<00:00, 10.28it/s]\n"
     ]
    },
    {
     "name": "stdout",
     "output_type": "stream",
     "text": [
      "New best model saved! Accuracy: 96.31%\n",
      "Train Loss: 0.1826, Train Acc: 94.02%\n",
      "Test Loss: 0.1183, Test Acc: 96.31%\n",
      "\n",
      "Epoch 32/64\n"
     ]
    },
    {
     "name": "stderr",
     "output_type": "stream",
     "text": [
      "Training: 100%|█████████████████████████████████████████████| 769/769 [04:02<00:00,  3.18it/s, loss=0.2647, acc=94.25%]\n",
      "Evaluating: 100%|████████████████████████████████████████████████████████████████████| 414/414 [00:40<00:00, 10.26it/s]\n"
     ]
    },
    {
     "name": "stdout",
     "output_type": "stream",
     "text": [
      "Train Loss: 0.1750, Train Acc: 94.25%\n",
      "Test Loss: 0.1323, Test Acc: 95.99%\n",
      "EarlyStopping counter: 1 out of 10\n",
      "\n",
      "Epoch 33/64\n"
     ]
    },
    {
     "name": "stderr",
     "output_type": "stream",
     "text": [
      "Training: 100%|█████████████████████████████████████████████| 769/769 [04:02<00:00,  3.18it/s, loss=0.0258, acc=94.32%]\n",
      "Evaluating: 100%|████████████████████████████████████████████████████████████████████| 414/414 [00:40<00:00, 10.18it/s]\n"
     ]
    },
    {
     "name": "stdout",
     "output_type": "stream",
     "text": [
      "Train Loss: 0.1749, Train Acc: 94.32%\n",
      "Test Loss: 0.1310, Test Acc: 96.03%\n",
      "EarlyStopping counter: 2 out of 10\n",
      "\n",
      "Epoch 34/64\n"
     ]
    },
    {
     "name": "stderr",
     "output_type": "stream",
     "text": [
      "Training: 100%|█████████████████████████████████████████████| 769/769 [04:02<00:00,  3.17it/s, loss=1.4646, acc=94.40%]\n",
      "Evaluating: 100%|████████████████████████████████████████████████████████████████████| 414/414 [00:40<00:00, 10.20it/s]\n"
     ]
    },
    {
     "name": "stdout",
     "output_type": "stream",
     "text": [
      "Train Loss: 0.1695, Train Acc: 94.40%\n",
      "Test Loss: 0.1215, Test Acc: 96.23%\n",
      "EarlyStopping counter: 3 out of 10\n",
      "\n",
      "Epoch 35/64\n"
     ]
    },
    {
     "name": "stderr",
     "output_type": "stream",
     "text": [
      "Training: 100%|█████████████████████████████████████████████| 769/769 [04:02<00:00,  3.17it/s, loss=0.3115, acc=94.69%]\n",
      "Evaluating: 100%|████████████████████████████████████████████████████████████████████| 414/414 [00:40<00:00, 10.28it/s]\n"
     ]
    },
    {
     "name": "stdout",
     "output_type": "stream",
     "text": [
      "New best model saved! Accuracy: 96.38%\n",
      "Train Loss: 0.1651, Train Acc: 94.69%\n",
      "Test Loss: 0.1140, Test Acc: 96.38%\n",
      "\n",
      "Epoch 36/64\n"
     ]
    },
    {
     "name": "stderr",
     "output_type": "stream",
     "text": [
      "Training: 100%|█████████████████████████████████████████████| 769/769 [04:02<00:00,  3.18it/s, loss=0.2032, acc=94.89%]\n",
      "Evaluating: 100%|████████████████████████████████████████████████████████████████████| 414/414 [00:40<00:00, 10.27it/s]\n"
     ]
    },
    {
     "name": "stdout",
     "output_type": "stream",
     "text": [
      "New best model saved! Accuracy: 96.55%\n",
      "Train Loss: 0.1566, Train Acc: 94.89%\n",
      "Test Loss: 0.1112, Test Acc: 96.55%\n",
      "\n",
      "Epoch 37/64\n"
     ]
    },
    {
     "name": "stderr",
     "output_type": "stream",
     "text": [
      "Training: 100%|█████████████████████████████████████████████| 769/769 [04:02<00:00,  3.18it/s, loss=0.6874, acc=94.88%]\n",
      "Evaluating: 100%|████████████████████████████████████████████████████████████████████| 414/414 [00:40<00:00, 10.27it/s]\n"
     ]
    },
    {
     "name": "stdout",
     "output_type": "stream",
     "text": [
      "Train Loss: 0.1597, Train Acc: 94.88%\n",
      "Test Loss: 0.1145, Test Acc: 96.38%\n",
      "EarlyStopping counter: 1 out of 10\n",
      "\n",
      "Epoch 38/64\n"
     ]
    },
    {
     "name": "stderr",
     "output_type": "stream",
     "text": [
      "Training: 100%|█████████████████████████████████████████████| 769/769 [04:02<00:00,  3.17it/s, loss=0.2186, acc=94.99%]\n",
      "Evaluating: 100%|████████████████████████████████████████████████████████████████████| 414/414 [00:40<00:00, 10.23it/s]\n"
     ]
    },
    {
     "name": "stdout",
     "output_type": "stream",
     "text": [
      "New best model saved! Accuracy: 96.78%\n",
      "Train Loss: 0.1528, Train Acc: 94.99%\n",
      "Test Loss: 0.1013, Test Acc: 96.78%\n",
      "\n",
      "Epoch 39/64\n"
     ]
    },
    {
     "name": "stderr",
     "output_type": "stream",
     "text": [
      "Training: 100%|█████████████████████████████████████████████| 769/769 [04:02<00:00,  3.18it/s, loss=0.0913, acc=95.18%]\n",
      "Evaluating: 100%|████████████████████████████████████████████████████████████████████| 414/414 [00:40<00:00, 10.27it/s]\n"
     ]
    },
    {
     "name": "stdout",
     "output_type": "stream",
     "text": [
      "Train Loss: 0.1495, Train Acc: 95.18%\n",
      "Test Loss: 0.1125, Test Acc: 96.60%\n",
      "EarlyStopping counter: 1 out of 10\n",
      "\n",
      "Epoch 40/64\n"
     ]
    },
    {
     "name": "stderr",
     "output_type": "stream",
     "text": [
      "Training: 100%|█████████████████████████████████████████████| 769/769 [04:02<00:00,  3.17it/s, loss=0.8521, acc=95.19%]\n",
      "Evaluating: 100%|████████████████████████████████████████████████████████████████████| 414/414 [00:40<00:00, 10.22it/s]\n"
     ]
    },
    {
     "name": "stdout",
     "output_type": "stream",
     "text": [
      "Train Loss: 0.1491, Train Acc: 95.19%\n",
      "Test Loss: 0.1067, Test Acc: 96.69%\n",
      "EarlyStopping counter: 2 out of 10\n",
      "\n",
      "Epoch 41/64\n"
     ]
    },
    {
     "name": "stderr",
     "output_type": "stream",
     "text": [
      "Training: 100%|█████████████████████████████████████████████| 769/769 [04:02<00:00,  3.18it/s, loss=0.0320, acc=95.24%]\n",
      "Evaluating: 100%|████████████████████████████████████████████████████████████████████| 414/414 [00:40<00:00, 10.29it/s]\n"
     ]
    },
    {
     "name": "stdout",
     "output_type": "stream",
     "text": [
      "Train Loss: 0.1462, Train Acc: 95.24%\n",
      "Test Loss: 0.1231, Test Acc: 96.25%\n",
      "EarlyStopping counter: 3 out of 10\n",
      "\n",
      "Epoch 42/64\n"
     ]
    },
    {
     "name": "stderr",
     "output_type": "stream",
     "text": [
      "Training: 100%|█████████████████████████████████████████████| 769/769 [04:01<00:00,  3.18it/s, loss=1.0749, acc=95.44%]\n",
      "Evaluating: 100%|████████████████████████████████████████████████████████████████████| 414/414 [00:40<00:00, 10.27it/s]\n"
     ]
    },
    {
     "name": "stdout",
     "output_type": "stream",
     "text": [
      "Train Loss: 0.1416, Train Acc: 95.44%\n",
      "Test Loss: 0.1164, Test Acc: 96.35%\n",
      "EarlyStopping counter: 4 out of 10\n",
      "\n",
      "Epoch 43/64\n"
     ]
    },
    {
     "name": "stderr",
     "output_type": "stream",
     "text": [
      "Training: 100%|█████████████████████████████████████████████| 769/769 [04:02<00:00,  3.18it/s, loss=1.8760, acc=95.31%]\n",
      "Evaluating: 100%|████████████████████████████████████████████████████████████████████| 414/414 [00:40<00:00, 10.26it/s]\n"
     ]
    },
    {
     "name": "stdout",
     "output_type": "stream",
     "text": [
      "Train Loss: 0.1437, Train Acc: 95.31%\n",
      "Test Loss: 0.1082, Test Acc: 96.66%\n",
      "EarlyStopping counter: 5 out of 10\n",
      "\n",
      "Epoch 44/64\n"
     ]
    },
    {
     "name": "stderr",
     "output_type": "stream",
     "text": [
      "Training: 100%|█████████████████████████████████████████████| 769/769 [04:01<00:00,  3.18it/s, loss=0.0360, acc=95.37%]\n",
      "Evaluating: 100%|████████████████████████████████████████████████████████████████████| 414/414 [00:40<00:00, 10.26it/s]\n"
     ]
    },
    {
     "name": "stdout",
     "output_type": "stream",
     "text": [
      "Epoch 00044: reducing learning rate of group 0 to 1.0000e-04.\n",
      "Train Loss: 0.1425, Train Acc: 95.37%\n",
      "Test Loss: 0.1042, Test Acc: 96.75%\n",
      "EarlyStopping counter: 6 out of 10\n",
      "\n",
      "Epoch 45/64\n"
     ]
    },
    {
     "name": "stderr",
     "output_type": "stream",
     "text": [
      "Training: 100%|█████████████████████████████████████████████| 769/769 [04:01<00:00,  3.18it/s, loss=0.0404, acc=96.97%]\n",
      "Evaluating: 100%|████████████████████████████████████████████████████████████████████| 414/414 [00:40<00:00, 10.28it/s]\n"
     ]
    },
    {
     "name": "stdout",
     "output_type": "stream",
     "text": [
      "New best model saved! Accuracy: 97.54%\n",
      "Train Loss: 0.0938, Train Acc: 96.97%\n",
      "Test Loss: 0.0788, Test Acc: 97.54%\n",
      "\n",
      "Epoch 46/64\n"
     ]
    },
    {
     "name": "stderr",
     "output_type": "stream",
     "text": [
      "Training: 100%|█████████████████████████████████████████████| 769/769 [04:01<00:00,  3.18it/s, loss=0.9777, acc=97.52%]\n",
      "Evaluating: 100%|████████████████████████████████████████████████████████████████████| 414/414 [00:40<00:00, 10.29it/s]\n"
     ]
    },
    {
     "name": "stdout",
     "output_type": "stream",
     "text": [
      "New best model saved! Accuracy: 97.62%\n",
      "Train Loss: 0.0776, Train Acc: 97.52%\n",
      "Test Loss: 0.0765, Test Acc: 97.62%\n",
      "\n",
      "Epoch 47/64\n"
     ]
    },
    {
     "name": "stderr",
     "output_type": "stream",
     "text": [
      "Training: 100%|█████████████████████████████████████████████| 769/769 [04:01<00:00,  3.18it/s, loss=0.0112, acc=97.73%]\n",
      "Evaluating: 100%|████████████████████████████████████████████████████████████████████| 414/414 [00:40<00:00, 10.24it/s]\n"
     ]
    },
    {
     "name": "stdout",
     "output_type": "stream",
     "text": [
      "New best model saved! Accuracy: 97.70%\n",
      "Train Loss: 0.0717, Train Acc: 97.73%\n",
      "Test Loss: 0.0739, Test Acc: 97.70%\n",
      "\n",
      "Epoch 48/64\n"
     ]
    },
    {
     "name": "stderr",
     "output_type": "stream",
     "text": [
      "Training: 100%|█████████████████████████████████████████████| 769/769 [04:02<00:00,  3.18it/s, loss=0.0293, acc=97.90%]\n",
      "Evaluating: 100%|████████████████████████████████████████████████████████████████████| 414/414 [00:40<00:00, 10.28it/s]\n"
     ]
    },
    {
     "name": "stdout",
     "output_type": "stream",
     "text": [
      "Train Loss: 0.0660, Train Acc: 97.90%\n",
      "Test Loss: 0.0746, Test Acc: 97.70%\n",
      "EarlyStopping counter: 1 out of 10\n",
      "\n",
      "Epoch 49/64\n"
     ]
    },
    {
     "name": "stderr",
     "output_type": "stream",
     "text": [
      "Training: 100%|█████████████████████████████████████████████| 769/769 [04:02<00:00,  3.18it/s, loss=0.1840, acc=98.02%]\n",
      "Evaluating: 100%|████████████████████████████████████████████████████████████████████| 414/414 [00:40<00:00, 10.29it/s]\n"
     ]
    },
    {
     "name": "stdout",
     "output_type": "stream",
     "text": [
      "New best model saved! Accuracy: 97.83%\n",
      "Train Loss: 0.0606, Train Acc: 98.02%\n",
      "Test Loss: 0.0717, Test Acc: 97.83%\n",
      "\n",
      "Epoch 50/64\n"
     ]
    },
    {
     "name": "stderr",
     "output_type": "stream",
     "text": [
      "Training: 100%|█████████████████████████████████████████████| 769/769 [04:02<00:00,  3.18it/s, loss=0.0022, acc=98.03%]\n",
      "Evaluating: 100%|████████████████████████████████████████████████████████████████████| 414/414 [00:40<00:00, 10.27it/s]\n"
     ]
    },
    {
     "name": "stdout",
     "output_type": "stream",
     "text": [
      "New best model saved! Accuracy: 97.86%\n",
      "Train Loss: 0.0612, Train Acc: 98.03%\n",
      "Test Loss: 0.0709, Test Acc: 97.86%\n",
      "\n",
      "Epoch 51/64\n"
     ]
    },
    {
     "name": "stderr",
     "output_type": "stream",
     "text": [
      "Training: 100%|█████████████████████████████████████████████| 769/769 [04:01<00:00,  3.18it/s, loss=0.4569, acc=98.21%]\n",
      "Evaluating: 100%|████████████████████████████████████████████████████████████████████| 414/414 [00:40<00:00, 10.25it/s]\n"
     ]
    },
    {
     "name": "stdout",
     "output_type": "stream",
     "text": [
      "Train Loss: 0.0576, Train Acc: 98.21%\n",
      "Test Loss: 0.0716, Test Acc: 97.84%\n",
      "EarlyStopping counter: 1 out of 10\n",
      "\n",
      "Epoch 52/64\n"
     ]
    },
    {
     "name": "stderr",
     "output_type": "stream",
     "text": [
      "Training: 100%|█████████████████████████████████████████████| 769/769 [04:02<00:00,  3.18it/s, loss=0.0762, acc=98.24%]\n",
      "Evaluating: 100%|████████████████████████████████████████████████████████████████████| 414/414 [00:40<00:00, 10.28it/s]\n"
     ]
    },
    {
     "name": "stdout",
     "output_type": "stream",
     "text": [
      "New best model saved! Accuracy: 97.90%\n",
      "Train Loss: 0.0545, Train Acc: 98.24%\n",
      "Test Loss: 0.0697, Test Acc: 97.90%\n",
      "\n",
      "Epoch 53/64\n"
     ]
    },
    {
     "name": "stderr",
     "output_type": "stream",
     "text": [
      "Training: 100%|█████████████████████████████████████████████| 769/769 [04:01<00:00,  3.18it/s, loss=2.2328, acc=98.25%]\n",
      "Evaluating: 100%|████████████████████████████████████████████████████████████████████| 414/414 [00:40<00:00, 10.29it/s]\n"
     ]
    },
    {
     "name": "stdout",
     "output_type": "stream",
     "text": [
      "New best model saved! Accuracy: 97.94%\n",
      "Train Loss: 0.0557, Train Acc: 98.25%\n",
      "Test Loss: 0.0691, Test Acc: 97.94%\n",
      "\n",
      "Epoch 54/64\n"
     ]
    },
    {
     "name": "stderr",
     "output_type": "stream",
     "text": [
      "Training: 100%|█████████████████████████████████████████████| 769/769 [04:01<00:00,  3.18it/s, loss=0.0282, acc=98.36%]\n",
      "Evaluating: 100%|████████████████████████████████████████████████████████████████████| 414/414 [00:40<00:00, 10.28it/s]\n"
     ]
    },
    {
     "name": "stdout",
     "output_type": "stream",
     "text": [
      "New best model saved! Accuracy: 97.95%\n",
      "Train Loss: 0.0521, Train Acc: 98.36%\n",
      "Test Loss: 0.0702, Test Acc: 97.95%\n",
      "EarlyStopping counter: 1 out of 10\n",
      "\n",
      "Epoch 55/64\n"
     ]
    },
    {
     "name": "stderr",
     "output_type": "stream",
     "text": [
      "Training: 100%|█████████████████████████████████████████████| 769/769 [04:02<00:00,  3.18it/s, loss=0.0099, acc=98.35%]\n",
      "Evaluating: 100%|████████████████████████████████████████████████████████████████████| 414/414 [00:40<00:00, 10.20it/s]\n"
     ]
    },
    {
     "name": "stdout",
     "output_type": "stream",
     "text": [
      "New best model saved! Accuracy: 97.96%\n",
      "Train Loss: 0.0498, Train Acc: 98.35%\n",
      "Test Loss: 0.0687, Test Acc: 97.96%\n",
      "\n",
      "Epoch 56/64\n"
     ]
    },
    {
     "name": "stderr",
     "output_type": "stream",
     "text": [
      "Training: 100%|█████████████████████████████████████████████| 769/769 [04:01<00:00,  3.18it/s, loss=0.1885, acc=98.37%]\n",
      "Evaluating: 100%|████████████████████████████████████████████████████████████████████| 414/414 [00:40<00:00, 10.29it/s]\n"
     ]
    },
    {
     "name": "stdout",
     "output_type": "stream",
     "text": [
      "New best model saved! Accuracy: 98.00%\n",
      "Train Loss: 0.0486, Train Acc: 98.37%\n",
      "Test Loss: 0.0696, Test Acc: 98.00%\n",
      "EarlyStopping counter: 1 out of 10\n",
      "\n",
      "Epoch 57/64\n"
     ]
    },
    {
     "name": "stderr",
     "output_type": "stream",
     "text": [
      "Training: 100%|█████████████████████████████████████████████| 769/769 [04:01<00:00,  3.18it/s, loss=0.7681, acc=98.45%]\n",
      "Evaluating: 100%|████████████████████████████████████████████████████████████████████| 414/414 [00:40<00:00, 10.23it/s]\n"
     ]
    },
    {
     "name": "stdout",
     "output_type": "stream",
     "text": [
      "Train Loss: 0.0498, Train Acc: 98.45%\n",
      "Test Loss: 0.0694, Test Acc: 97.94%\n",
      "EarlyStopping counter: 2 out of 10\n",
      "\n",
      "Epoch 58/64\n"
     ]
    },
    {
     "name": "stderr",
     "output_type": "stream",
     "text": [
      "Training: 100%|█████████████████████████████████████████████| 769/769 [04:02<00:00,  3.17it/s, loss=0.8254, acc=98.54%]\n",
      "Evaluating: 100%|████████████████████████████████████████████████████████████████████| 414/414 [00:40<00:00, 10.23it/s]\n"
     ]
    },
    {
     "name": "stdout",
     "output_type": "stream",
     "text": [
      "Train Loss: 0.0469, Train Acc: 98.54%\n",
      "Test Loss: 0.0698, Test Acc: 97.91%\n",
      "EarlyStopping counter: 3 out of 10\n",
      "\n",
      "Epoch 59/64\n"
     ]
    },
    {
     "name": "stderr",
     "output_type": "stream",
     "text": [
      "Training: 100%|█████████████████████████████████████████████| 769/769 [04:02<00:00,  3.18it/s, loss=0.4974, acc=98.42%]\n",
      "Evaluating: 100%|████████████████████████████████████████████████████████████████████| 414/414 [00:40<00:00, 10.23it/s]\n"
     ]
    },
    {
     "name": "stdout",
     "output_type": "stream",
     "text": [
      "New best model saved! Accuracy: 98.04%\n",
      "Train Loss: 0.0478, Train Acc: 98.42%\n",
      "Test Loss: 0.0674, Test Acc: 98.04%\n",
      "\n",
      "Epoch 60/64\n"
     ]
    },
    {
     "name": "stderr",
     "output_type": "stream",
     "text": [
      "Training: 100%|█████████████████████████████████████████████| 769/769 [04:02<00:00,  3.17it/s, loss=0.0045, acc=98.57%]\n",
      "Evaluating: 100%|████████████████████████████████████████████████████████████████████| 414/414 [00:40<00:00, 10.23it/s]\n"
     ]
    },
    {
     "name": "stdout",
     "output_type": "stream",
     "text": [
      "Train Loss: 0.0452, Train Acc: 98.57%\n",
      "Test Loss: 0.0676, Test Acc: 98.03%\n",
      "EarlyStopping counter: 1 out of 10\n",
      "\n",
      "Epoch 61/64\n"
     ]
    },
    {
     "name": "stderr",
     "output_type": "stream",
     "text": [
      "Training: 100%|█████████████████████████████████████████████| 769/769 [04:02<00:00,  3.18it/s, loss=0.0035, acc=98.53%]\n",
      "Evaluating: 100%|████████████████████████████████████████████████████████████████████| 414/414 [00:40<00:00, 10.26it/s]\n"
     ]
    },
    {
     "name": "stdout",
     "output_type": "stream",
     "text": [
      "Train Loss: 0.0456, Train Acc: 98.53%\n",
      "Test Loss: 0.0671, Test Acc: 98.00%\n",
      "\n",
      "Epoch 62/64\n"
     ]
    },
    {
     "name": "stderr",
     "output_type": "stream",
     "text": [
      "Training: 100%|█████████████████████████████████████████████| 769/769 [04:02<00:00,  3.17it/s, loss=0.1425, acc=98.61%]\n",
      "Evaluating: 100%|████████████████████████████████████████████████████████████████████| 414/414 [00:40<00:00, 10.21it/s]\n"
     ]
    },
    {
     "name": "stdout",
     "output_type": "stream",
     "text": [
      "Train Loss: 0.0423, Train Acc: 98.61%\n",
      "Test Loss: 0.0684, Test Acc: 97.96%\n",
      "EarlyStopping counter: 1 out of 10\n",
      "\n",
      "Epoch 63/64\n"
     ]
    },
    {
     "name": "stderr",
     "output_type": "stream",
     "text": [
      "Training: 100%|█████████████████████████████████████████████| 769/769 [04:02<00:00,  3.18it/s, loss=0.0125, acc=98.57%]\n",
      "Evaluating: 100%|████████████████████████████████████████████████████████████████████| 414/414 [00:40<00:00, 10.24it/s]\n"
     ]
    },
    {
     "name": "stdout",
     "output_type": "stream",
     "text": [
      "Train Loss: 0.0439, Train Acc: 98.57%\n",
      "Test Loss: 0.0686, Test Acc: 98.03%\n",
      "EarlyStopping counter: 2 out of 10\n",
      "\n",
      "Epoch 64/64\n"
     ]
    },
    {
     "name": "stderr",
     "output_type": "stream",
     "text": [
      "Training: 100%|█████████████████████████████████████████████| 769/769 [04:02<00:00,  3.18it/s, loss=0.4529, acc=98.66%]\n",
      "Evaluating: 100%|████████████████████████████████████████████████████████████████████| 414/414 [00:40<00:00, 10.25it/s]\n"
     ]
    },
    {
     "name": "stdout",
     "output_type": "stream",
     "text": [
      "New best model saved! Accuracy: 98.06%\n",
      "Train Loss: 0.0417, Train Acc: 98.66%\n",
      "Test Loss: 0.0657, Test Acc: 98.06%\n",
      "\n",
      "Training completed in 5h 3m 39s\n"
     ]
    },
    {
     "data": {
      "image/png": "[encoded data removed]",
      "text/plain": [
       "<Figure size 1600x600 with 2 Axes>"
      ]
     },
     "metadata": {},
     "output_type": "display_data"
    },
    {
     "name": "stdout",
     "output_type": "stream",
     "text": [
      "\n",
      "Generating comprehensive evaluation report...\n"
     ]
    },
    {
     "name": "stderr",
     "output_type": "stream",
     "text": [
      "Generating evaluation metrics: 100%|█████████████████████████████████████████████████| 414/414 [00:40<00:00, 10.28it/s]\n"
     ]
    },
    {
     "name": "stdout",
     "output_type": "stream",
     "text": [
      "\n",
      "===== Evaluation Metrics =====\n",
      "Accuracy: 0.9806\n",
      "Precision: 0.9807\n",
      "Recall: 0.9806\n",
      "F1 Score: 0.9806\n",
      "Complete pipeline saved to 'models/complete_arsl_pipeline.pth'\n",
      "\n",
      "Best Test Accuracy: 98.06%\n"
     ]
    },
    {
     "data": {
      "image/png": "[encoded data removed]",
      "text/plain": [
       "<Figure size 1600x1400 with 2 Axes>"
      ]
     },
     "metadata": {},
     "output_type": "display_data"
    }
   ],
   "source": [
    "# Example usage\n",
    "if __name__ == \"__main__\":\n",
    "    # Set local paths\n",
    "    train_dir = \"C:/Users/Fatima/Downloads/train\"\n",
    "    test_dir = \"C:/Users/Fatima/Downloads/test\"\n",
    "    \n",
    "    # Train model with GPU acceleration\n",
    "    model, evaluation_metrics = train_model(\n",
    "        train_dir=train_dir,\n",
    "        test_dir=test_dir,\n",
    "        num_epochs=64,      # Maximum number of epochs\n",
    "        batch_size=64       # Increased batch size for RTX 2060\n",
    "    )"
   ]
  },
  {
   "cell_type": "code",
   "execution_count": null,
   "id": "13f9591b-bd34-49ad-a010-414b9fd104ee",
   "metadata": {},
   "outputs": [],
   "source": []
  },
  {
   "cell_type": "code",
   "execution_count": null,
   "id": "c7974b65-15f1-467c-99ca-9bfd35bde69e",
   "metadata": {},
   "outputs": [
    {
     "name": "stdout",
     "output_type": "stream",
     "text": [
      "Using device: cuda\n",
      "Loading model from models/best_arsl_model.pth\n",
      "Found 32 classes in the model\n",
      "Generating predictions...\n"
     ]
    },
    {
     "name": "stderr",
     "output_type": "stream",
     "text": [
      " 78%|██████████████████████████████████████████████████████████████                  | 321/414 [00:31<00:08, 11.33it/s]"
     ]
    }
   ],
   "source": [
    "import torch\n",
    "import torch.nn as nn\n",
    "from torch.utils.data import DataLoader\n",
    "from torchvision import datasets, transforms\n",
    "import pandas as pd\n",
    "import numpy as np\n",
    "import matplotlib.pyplot as plt\n",
    "import seaborn as sns\n",
    "from sklearn.metrics import classification_report, confusion_matrix\n",
    "from tqdm import tqdm\n",
    "\n",
    "# Define the CNN model architecture (must match the saved model)\n",
    "class ArSLNet(nn.Module):\n",
    "    def __init__(self, num_classes):\n",
    "        super(ArSLNet, self).__init__()\n",
    "        \n",
    "        # Feature extraction layers\n",
    "        self.features = nn.Sequential(\n",
    "            # Conv Block 1\n",
    "            nn.Conv2d(3, 32, kernel_size=3, padding=1),\n",
    "            nn.BatchNorm2d(32),\n",
    "            nn.ReLU(inplace=True),\n",
    "            nn.Conv2d(32, 32, kernel_size=3, padding=1),\n",
    "            nn.BatchNorm2d(32),\n",
    "            nn.ReLU(inplace=True),\n",
    "            nn.MaxPool2d(kernel_size=2, stride=2),\n",
    "            \n",
    "            # Conv Block 2\n",
    "            nn.Conv2d(32, 64, kernel_size=3, padding=1),\n",
    "            nn.BatchNorm2d(64),\n",
    "            nn.ReLU(inplace=True),\n",
    "            nn.Conv2d(64, 64, kernel_size=3, padding=1),\n",
    "            nn.BatchNorm2d(64),\n",
    "            nn.ReLU(inplace=True),\n",
    "            nn.MaxPool2d(kernel_size=2, stride=2),\n",
    "            \n",
    "            # Conv Block 3\n",
    "            nn.Conv2d(64, 128, kernel_size=3, padding=1),\n",
    "            nn.BatchNorm2d(128),\n",
    "            nn.ReLU(inplace=True),\n",
    "            nn.Conv2d(128, 128, kernel_size=3, padding=1),\n",
    "            nn.BatchNorm2d(128),\n",
    "            nn.ReLU(inplace=True),\n",
    "            nn.MaxPool2d(kernel_size=2, stride=2),\n",
    "            \n",
    "            # Conv Block 4\n",
    "            nn.Conv2d(128, 256, kernel_size=3, padding=1),\n",
    "            nn.BatchNorm2d(256),\n",
    "            nn.ReLU(inplace=True),\n",
    "            nn.Conv2d(256, 256, kernel_size=3, padding=1),\n",
    "            nn.BatchNorm2d(256),\n",
    "            nn.ReLU(inplace=True),\n",
    "            nn.MaxPool2d(kernel_size=2, stride=2),\n",
    "        )\n",
    "        \n",
    "        # Adaptive pooling to handle different input sizes\n",
    "        self.adaptive_pool = nn.AdaptiveAvgPool2d((7, 7))\n",
    "        \n",
    "        # Classification layers\n",
    "        self.classifier = nn.Sequential(\n",
    "            nn.Dropout(0.5),\n",
    "            nn.Linear(256 * 7 * 7, 512),\n",
    "            nn.ReLU(inplace=True),\n",
    "            nn.BatchNorm1d(512),\n",
    "            nn.Dropout(0.5),\n",
    "            nn.Linear(512, num_classes)\n",
    "        )\n",
    "\n",
    "    def forward(self, x):\n",
    "        x = self.features(x)\n",
    "        x = self.adaptive_pool(x)\n",
    "        x = torch.flatten(x, 1)\n",
    "        x = self.classifier(x)\n",
    "        return x\n",
    "\n",
    "# Check for GPU availability\n",
    "device = torch.device(\"cuda\" if torch.cuda.is_available() else \"cpu\")\n",
    "print(f\"Using device: {device}\")\n",
    "\n",
    "# Define transforms for test data\n",
    "test_transform = transforms.Compose([\n",
    "    transforms.Resize((224, 224)),\n",
    "    transforms.ToTensor(),\n",
    "    transforms.Normalize(mean=[0.485, 0.456, 0.406], std=[0.229, 0.224, 0.225])\n",
    "])\n",
    "\n",
    "def load_model_and_evaluate(model_path, test_dir, batch_size=64):\n",
    "    \"\"\"Load saved model and generate detailed evaluation report\"\"\"\n",
    "    print(f\"Loading model from {model_path}\")\n",
    "    \n",
    "    # Load the model\n",
    "    checkpoint = torch.load(model_path, map_location=device)\n",
    "    \n",
    "    # Get class names\n",
    "    if 'class_names' in checkpoint:\n",
    "        class_names = checkpoint['class_names']\n",
    "        print(f\"Found {len(class_names)} classes in the model\")\n",
    "    else:\n",
    "        print(\"Class names not found in the model, trying to load from test data\")\n",
    "        # Will be determined from test data\n",
    "        class_names = None\n",
    "    \n",
    "    # Load test data\n",
    "    test_dataset = datasets.ImageFolder(test_dir, transform=test_transform)\n",
    "    if class_names is None:\n",
    "        class_names = test_dataset.classes\n",
    "        print(f\"Using {len(class_names)} classes from test data\")\n",
    "    \n",
    "    test_loader = DataLoader(\n",
    "        test_dataset, \n",
    "        batch_size=batch_size, \n",
    "        shuffle=False, \n",
    "        num_workers=2, \n",
    "        pin_memory=True if device.type == 'cuda' else False\n",
    "    )\n",
    "    \n",
    "    # Initialize model\n",
    "    num_classes = len(class_names)\n",
    "    model = ArSLNet(num_classes=num_classes).to(device)\n",
    "    \n",
    "    # Load model state\n",
    "    if 'model' in checkpoint:\n",
    "        model.load_state_dict(checkpoint['model'])\n",
    "    elif 'model_state_dict' in checkpoint:\n",
    "        model.load_state_dict(checkpoint['model_state_dict'])\n",
    "    else:\n",
    "        raise ValueError(\"Could not find model weights in checkpoint\")\n",
    "    \n",
    "    # Evaluate model\n",
    "    model.eval()\n",
    "    all_preds = []\n",
    "    all_labels = []\n",
    "    correct = 0\n",
    "    total = 0\n",
    "    \n",
    "    print(\"Generating predictions...\")\n",
    "    with torch.no_grad():\n",
    "        for inputs, labels in tqdm(test_loader):\n",
    "            inputs, labels = inputs.to(device), labels.to(device)\n",
    "            outputs = model(inputs)\n",
    "            _, predicted = outputs.max(1)\n",
    "            \n",
    "            all_preds.extend(predicted.cpu().numpy())\n",
    "            all_labels.extend(labels.cpu().numpy())\n",
    "            \n",
    "            # Calculate accuracy\n",
    "            total += labels.size(0)\n",
    "            correct += predicted.eq(labels).sum().item()\n",
    "    \n",
    "    accuracy = 100. * correct / total\n",
    "    print(f\"Test Accuracy: {accuracy:.2f}%\")\n",
    "    \n",
    "    # Convert to numpy arrays\n",
    "    all_preds = np.array(all_preds)\n",
    "    all_labels = np.array(all_labels)\n",
    "    \n",
    "    # Generate classification report\n",
    "    print(\"\\nGenerating classification report...\")\n",
    "    report_dict = classification_report(all_labels, all_preds, target_names=class_names, output_dict=True)\n",
    "    report_df = pd.DataFrame(report_dict).transpose()\n",
    "    \n",
    "    # Print report as table\n",
    "    print(\"\\n===== Classification Report =====\")\n",
    "    report_table = pd.DataFrame(report_dict).transpose()\n",
    "    print(report_table)\n",
    "    \n",
    "    # Save report to CSV\n",
    "    report_df.to_csv('detailed_classification_report.csv')\n",
    "    print(\"Classification report saved to 'detailed_classification_report.csv'\")\n",
    "    \n",
    "    # Generate confusion matrix\n",
    "    print(\"\\nGenerating confusion matrix...\")\n",
    "    cm = confusion_matrix(all_labels, all_preds)\n",
    "    \n",
    "    # Plot and save confusion matrix\n",
    "    plt.figure(figsize=(20, 18))\n",
    "    sns.heatmap(cm, annot=True, fmt='d', cmap='Blues', xticklabels=class_names, yticklabels=class_names)\n",
    "    plt.xlabel('Predicted')\n",
    "    plt.ylabel('True')\n",
    "    plt.title('Confusion Matrix')\n",
    "    plt.savefig('detailed_confusion_matrix.png', dpi=300, bbox_inches='tight')\n",
    "    print(\"Confusion matrix saved to 'detailed_confusion_matrix.png'\")\n",
    "    \n",
    "    # Plot class-wise precision, recall, and F1 score\n",
    "    metrics_df = report_df.iloc[:-3]  # Exclude avg rows\n",
    "    metrics_df = metrics_df.sort_values(by=['f1-score'], ascending=False)\n",
    "    \n",
    "    plt.figure(figsize=(15, 8))\n",
    "    x = np.arange(len(metrics_df))\n",
    "    width = 0.25\n",
    "    \n",
    "    plt.bar(x - width, metrics_df['precision'], width, label='Precision')\n",
    "    plt.bar(x, metrics_df['recall'], width, label='Recall')\n",
    "    plt.bar(x + width, metrics_df['f1-score'], width, label='F1-score')\n",
    "    \n",
    "    plt.xlabel('Class')\n",
    "    plt.ylabel('Score')\n",
    "    plt.title('Class-wise Performance Metrics')\n",
    "    plt.xticks(x, metrics_df.index, rotation=90)\n",
    "    plt.legend()\n",
    "    plt.tight_layout()\n",
    "    plt.savefig('class_performance_metrics.png', dpi=300, bbox_inches='tight')\n",
    "    print(\"Class performance metrics saved to 'class_performance_metrics.png'\")\n",
    "    \n",
    "    # Print model statistics\n",
    "    if 'metrics' in checkpoint:\n",
    "        print(\"\\n===== Model Training Statistics =====\")\n",
    "        for key, value in checkpoint['metrics'].items():\n",
    "            if isinstance(value, float):\n",
    "                print(f\"{key}: {value:.4f}\")\n",
    "            else:\n",
    "                print(f\"{key}: {value}\")\n",
    "    \n",
    "    return report_df, cm, class_names\n",
    "\n",
    "if __name__ == \"__main__\":\n",
    "    # Set paths\n",
    "    model_path = \"models/best_arsl_model.pth\"  # Use best model\n",
    "    # Alternatively, use the complete pipeline\n",
    "    # model_path = \"models/complete_arsl_pipeline.pth\" \n",
    "    test_dir = \"C:/Users/Fatima/Downloads/test\"\n",
    "    \n",
    "    # Generate detailed reports\n",
    "    report, confusion_matrix, classes = load_model_and_evaluate(model_path, test_dir)\n",
    "    \n",
    "    # List classes with their performance\n",
    "    print(\"\\n===== Class Performance Summary =====\")\n",
    "    class_performance = report.iloc[:-3][['precision', 'recall', 'f1-score']].sort_values(by='f1-score', ascending=False)\n",
    "    print(class_performance)\n",
    "    \n",
    "    # Identify best and worst performing classes\n",
    "    best_class = class_performance.iloc[0]\n",
    "    worst_class = class_performance.iloc[-1]\n",
    "    \n",
    "    print(f\"\\nBest performing class: {class_performance.index[0]}\")\n",
    "    print(f\"Precision: {best_class['precision']:.4f}, Recall: {best_class['recall']:.4f}, F1-score: {best_class['f1-score']:.4f}\")\n",
    "    \n",
    "    print(f\"\\nWorst performing class: {class_performance.index[-1]}\")\n",
    "    print(f\"Precision: {worst_class['precision']:.4f}, Recall: {worst_class['recall']:.4f}, F1-score: {worst_class['f1-score']:.4f}\")"
   ]
  },
  {
   "cell_type": "code",
   "execution_count": null,
   "id": "745ed8b6-422e-458e-919b-f303b4b5e5e1",
   "metadata": {},
   "outputs": [],
   "source": []
  }
 ],
 "metadata": {
  "kernelspec": {
   "display_name": "Python [conda env:pytorch_cuda]",
   "language": "python",
   "name": "conda-env-pytorch_cuda-py"
  },
  "language_info": {
   "codemirror_mode": {
    "name": "ipython",
    "version": 3
   },
   "file_extension": ".py",
   "mimetype": "text/x-python",
   "name": "python",
   "nbconvert_exporter": "python",
   "pygments_lexer": "ipython3",
   "version": "3.8.20"
  }
 },
 "nbformat": 4,
 "nbformat_minor": 5
}
